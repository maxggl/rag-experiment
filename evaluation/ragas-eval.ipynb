{
 "cells": [
  {
   "cell_type": "code",
   "execution_count": 1,
   "metadata": {},
   "outputs": [],
   "source": [
    "import os\n",
    "import pandas as pd\n",
    "os.environ[\"OPENAI_API_KEY\"] = \"\""
   ]
  },
  {
   "cell_type": "code",
   "execution_count": 22,
   "metadata": {},
   "outputs": [
    {
     "data": {
      "application/vnd.jupyter.widget-view+json": {
       "model_id": "6df9a41a7f2b4ff0ad0bafdb1d859dbc",
       "version_major": 2,
       "version_minor": 0
      },
      "text/plain": [
       "Evaluating:   0%|          | 0/5 [00:00<?, ?it/s]"
      ]
     },
     "metadata": {},
     "output_type": "display_data"
    },
    {
     "data": {
      "text/html": [
       "<div>\n",
       "<style scoped>\n",
       "    .dataframe tbody tr th:only-of-type {\n",
       "        vertical-align: middle;\n",
       "    }\n",
       "\n",
       "    .dataframe tbody tr th {\n",
       "        vertical-align: top;\n",
       "    }\n",
       "\n",
       "    .dataframe thead th {\n",
       "        text-align: right;\n",
       "    }\n",
       "</style>\n",
       "<table border=\"1\" class=\"dataframe\">\n",
       "  <thead>\n",
       "    <tr style=\"text-align: right;\">\n",
       "      <th></th>\n",
       "      <th>question</th>\n",
       "      <th>answer</th>\n",
       "      <th>contexts</th>\n",
       "      <th>ground_truth</th>\n",
       "      <th>faithfulness</th>\n",
       "      <th>answer_relevancy</th>\n",
       "      <th>context_precision</th>\n",
       "      <th>context_recall</th>\n",
       "      <th>answer_correctness</th>\n",
       "    </tr>\n",
       "  </thead>\n",
       "  <tbody>\n",
       "    <tr>\n",
       "      <th>0</th>\n",
       "      <td>How many metric tons of greenhouse gas emissions did our company produce in 2021?</td>\n",
       "      <td>Response: According to the provided context information, the company produced: * Gross Scope 1 Emissions: 113,286 metric tons (2021) * Gross Scope 2 Emissions: 469,236 metric tons (2021) * Gross Scope 3 Emissions: 56,803,958 metric tons (2021) Total greenhouse gas emissions in 2021 are the sum of these three categories: 113,286 + 469,236 + 56,803,958 = 57,376,480 metric tons</td>\n",
       "      <td>[Climate Action We are taking action on climate and transforming our food systems to be more resilient for the future ahead. Reducing emissions and adapting to climate change is critical to the success of the McDonald’s System. We work toward our climate action ambitions by focusing on reducing emissions in our restaurant operations, engaging suppliers to reduce emissions in supply chains, strengthening our business resilience and using our voice to advocate for collective transformation. In 2021, we committed to adapting our climate targets to help keep global temperature rises below 1.5°C. We intend to share an update on our climate journey later this year. Scope 1 Sources of direct emissions  (owned or controlled by the Company) from Company-operated restaurants and offices only 2021 GHG Emissions (Metric Tons) 2021: 113,286 2015 (Baseline): 162,958 0.18%% of total emissions Scope 2 * Sources of indirect emissions (owned or controlled by the Company) from Company- operated restaurants and offices only 2021 GHG Emissions (Metric Tons) 2021: 469,236 2015 (Baseline): 1,295,064 0.8%% of total emissions * Market-based Scope 3 Sources of all other indirect emi ssions from Franchisee- owned restaurants, waste from all restaurants, supply chain, transportation and logistics 2021 GHG Emissions (Metric Tons) 2021: 56,803,958 2015 (Baseline): 49,802,177 99.02%% of total emissionsOur 2021 Footprint, and coordination across the McDonald’s System. We look forward to continuing to identify ways to strengthen our reporting processes and disclosures in the coming years. All data shown below is reflective of year-end 2022 progress, unless otherwise stated. Topic Accounting Metric Category Unit of Measure Code Response and Source(s) Energy Ma nagement (1) T otal energy consumed, (2) percentage grid electricity and (3) percentage renewables Quantitative Gigajoules (GJ), Percentage (%) FB-RN-130a.1 Response In 2021, we committed to adapting our climate targets to help keep global temperature rises below 1.5°C. We intend to share an update on our climate journey later this year. Energy Consumption for Company-Owned Restaurants and Offices (1) T otal energy consumed: 7,989,134.4 GJ (2021) (2) Percentage grid electricity: 62.5% (2021) (3) Percentage renewable: 12.7% (2021) Commentary Greenhouse Gas (GHG) Emissions (in Metric Tons) Gross Scope 1 Emissions: 113,286 (2021) Gross Scope 2 Emissions: 469,236 (2021) Gross Scope 3 Emissions: 56,803,958 (2021) T oday, restaurant energy use represents 59%% of our restaurant and operations baseline emissions footprint; as such, they represent a key focus area for accelerating progress against our 2030 targets. Since 2019, McDonald’s has signed 14 renewable energy projects through virtual power purchase agreements (VPPAs) and continues to be among other leading corporate renewable energy buyers in adding new, large-scale r, with U.S. electricity use become operational, they are expected to contribute a 33%% reduction in emissions from our 2015 baseline. Our Planet Nature, Forests &amp; Water Page 26 We have made progress against our 2030 goal to eliminate deforestation 1 from our g lobal supply chain, including for our priority ingredient supply chains where more than 99.0%% of commodities by volume supported deforestation-free supply chains  in 2022. 2 More than 85.1%% of restaurants in markets with advanced infrastructure5 offered guests the opportunity to recycle p ackaging items. Footnotes can be found on page 16 McDonald’s Corporation Purpose &amp; Impact Report 2022–202312 Introduction Our Planet Food Quality &amp; Sourcing Jobs, Inclusion &amp; Empowerment Community Connection SASB Index, Our 2022 Progress at a Glance Packaging, Toys &amp; Waste Page 22 We sourced 81.0%% of primary guest packaging3 from renewable, recycled or certified sources in 2022.4 97.2%% of primary fiber-based guest packaging materials globally were from recycled or certified sources in 2022. We made progress to reduce plastics in ou r Happy Meal toys. As of the end of 2022, we have reduced virgin fossil-fuel based plastic in Happy Meal toys by 47.8%% globally since 2018, up from 24.4%% as of the end of 2021. In 2022, more than 85.1%, of restaurants in ma rkets with advanced infrastructure5 offered g uests the opportunity to recycle packaging items. In these restaurants, guest packaging is collected in customer-facing recycling bins for back-of-house or off-site sorting and recycling utilizing existing local waste infrastructure systems.  Climate Action Page 19 In 2021, we committed to adapting our climate targets to help keep global temperature rises below 1.5°C. We intend to share more on our climate journey later this year. We continue to progress toward net zero emissions globally by 2050, transforming our business to be more resilient. During 2022, we added two large-scale, U.S. virtual power purchase agreements (VPPAs) to contribute more renewable energy to the grid. As renewable energy projects for which contracts we re executed between 2019 and 2023 associated]</td>\n",
       "      <td>Scope 1 Emissions: 113,286 (metric tons) Scope 2 Emissions: 469,236 (metric tons) Scope 3 Emissions: 56,803,958 (metric tons) This makes a total of 57,386,480 metric tons of greenhouse gas emissions in 2021.</td>\n",
       "      <td>0.833333</td>\n",
       "      <td>0.867033</td>\n",
       "      <td>1.0</td>\n",
       "      <td>1.0</td>\n",
       "      <td>0.754931</td>\n",
       "    </tr>\n",
       "  </tbody>\n",
       "</table>\n",
       "</div>"
      ],
      "text/plain": [
       "                                                                            question  \\\n",
       "0  How many metric tons of greenhouse gas emissions did our company produce in 2021?   \n",
       "\n",
       "                                                                                                                                                                                                                                                                                                                                                                                      answer  \\\n",
       "0  Response: According to the provided context information, the company produced: * Gross Scope 1 Emissions: 113,286 metric tons (2021) * Gross Scope 2 Emissions: 469,236 metric tons (2021) * Gross Scope 3 Emissions: 56,803,958 metric tons (2021) Total greenhouse gas emissions in 2021 are the sum of these three categories: 113,286 + 469,236 + 56,803,958 = 57,376,480 metric tons   \n",
       "\n",
       "                                                                                                                                                                                                                                                                                                                                                                                                                                                                                                                                                                                                                                                                                                                                                                                                                                                                                                                                                                                                                                                                                                                                                                                                                                                                                                                                                                                                                                                                                                                                                                                                                                                                                                                                                                                                                                                                                                                                                                                                                                                                                                                                                                                                                                                                                                                                                                                                                                                                                                                                                                                                                                                                                                                                                                                                                                                                                                                                                                                                                                                                                                                                                                                                                                                                                                                                                                                                                                                                                                                                                                                                                                                                                                                                                                                                                                                                                                                                                                                                                                                                                                                                                                                                                                                                                                                                                                                                                                                                                                                                                                                                                                                                                                                                                                                                                                                                                                                                                                                                                                                                                                                                                                                                                                           contexts  \\\n",
       "0  [Climate Action We are taking action on climate and transforming our food systems to be more resilient for the future ahead. Reducing emissions and adapting to climate change is critical to the success of the McDonald’s System. We work toward our climate action ambitions by focusing on reducing emissions in our restaurant operations, engaging suppliers to reduce emissions in supply chains, strengthening our business resilience and using our voice to advocate for collective transformation. In 2021, we committed to adapting our climate targets to help keep global temperature rises below 1.5°C. We intend to share an update on our climate journey later this year. Scope 1 Sources of direct emissions  (owned or controlled by the Company) from Company-operated restaurants and offices only 2021 GHG Emissions (Metric Tons) 2021: 113,286 2015 (Baseline): 162,958 0.18%% of total emissions Scope 2 * Sources of indirect emissions (owned or controlled by the Company) from Company- operated restaurants and offices only 2021 GHG Emissions (Metric Tons) 2021: 469,236 2015 (Baseline): 1,295,064 0.8%% of total emissions * Market-based Scope 3 Sources of all other indirect emi ssions from Franchisee- owned restaurants, waste from all restaurants, supply chain, transportation and logistics 2021 GHG Emissions (Metric Tons) 2021: 56,803,958 2015 (Baseline): 49,802,177 99.02%% of total emissionsOur 2021 Footprint, and coordination across the McDonald’s System. We look forward to continuing to identify ways to strengthen our reporting processes and disclosures in the coming years. All data shown below is reflective of year-end 2022 progress, unless otherwise stated. Topic Accounting Metric Category Unit of Measure Code Response and Source(s) Energy Ma nagement (1) T otal energy consumed, (2) percentage grid electricity and (3) percentage renewables Quantitative Gigajoules (GJ), Percentage (%) FB-RN-130a.1 Response In 2021, we committed to adapting our climate targets to help keep global temperature rises below 1.5°C. We intend to share an update on our climate journey later this year. Energy Consumption for Company-Owned Restaurants and Offices (1) T otal energy consumed: 7,989,134.4 GJ (2021) (2) Percentage grid electricity: 62.5% (2021) (3) Percentage renewable: 12.7% (2021) Commentary Greenhouse Gas (GHG) Emissions (in Metric Tons) Gross Scope 1 Emissions: 113,286 (2021) Gross Scope 2 Emissions: 469,236 (2021) Gross Scope 3 Emissions: 56,803,958 (2021) T oday, restaurant energy use represents 59%% of our restaurant and operations baseline emissions footprint; as such, they represent a key focus area for accelerating progress against our 2030 targets. Since 2019, McDonald’s has signed 14 renewable energy projects through virtual power purchase agreements (VPPAs) and continues to be among other leading corporate renewable energy buyers in adding new, large-scale r, with U.S. electricity use become operational, they are expected to contribute a 33%% reduction in emissions from our 2015 baseline. Our Planet Nature, Forests & Water Page 26 We have made progress against our 2030 goal to eliminate deforestation 1 from our g lobal supply chain, including for our priority ingredient supply chains where more than 99.0%% of commodities by volume supported deforestation-free supply chains  in 2022. 2 More than 85.1%% of restaurants in markets with advanced infrastructure5 offered guests the opportunity to recycle p ackaging items. Footnotes can be found on page 16 McDonald’s Corporation Purpose & Impact Report 2022–202312 Introduction Our Planet Food Quality & Sourcing Jobs, Inclusion & Empowerment Community Connection SASB Index, Our 2022 Progress at a Glance Packaging, Toys & Waste Page 22 We sourced 81.0%% of primary guest packaging3 from renewable, recycled or certified sources in 2022.4 97.2%% of primary fiber-based guest packaging materials globally were from recycled or certified sources in 2022. We made progress to reduce plastics in ou r Happy Meal toys. As of the end of 2022, we have reduced virgin fossil-fuel based plastic in Happy Meal toys by 47.8%% globally since 2018, up from 24.4%% as of the end of 2021. In 2022, more than 85.1%, of restaurants in ma rkets with advanced infrastructure5 offered g uests the opportunity to recycle packaging items. In these restaurants, guest packaging is collected in customer-facing recycling bins for back-of-house or off-site sorting and recycling utilizing existing local waste infrastructure systems.  Climate Action Page 19 In 2021, we committed to adapting our climate targets to help keep global temperature rises below 1.5°C. We intend to share more on our climate journey later this year. We continue to progress toward net zero emissions globally by 2050, transforming our business to be more resilient. During 2022, we added two large-scale, U.S. virtual power purchase agreements (VPPAs) to contribute more renewable energy to the grid. As renewable energy projects for which contracts we re executed between 2019 and 2023 associated]   \n",
       "\n",
       "                                                                                                                                                                                                      ground_truth  \\\n",
       "0  Scope 1 Emissions: 113,286 (metric tons) Scope 2 Emissions: 469,236 (metric tons) Scope 3 Emissions: 56,803,958 (metric tons) This makes a total of 57,386,480 metric tons of greenhouse gas emissions in 2021.   \n",
       "\n",
       "   faithfulness  answer_relevancy  context_precision  context_recall  \\\n",
       "0      0.833333          0.867033                1.0             1.0   \n",
       "\n",
       "   answer_correctness  \n",
       "0            0.754931  "
      ]
     },
     "execution_count": 22,
     "metadata": {},
     "output_type": "execute_result"
    }
   ],
   "source": [
    "from datasets import Dataset\n",
    "from langchain_openai import ChatOpenAI\n",
    "from langchain_openai import OpenAIEmbeddings\n",
    "from ragas.metrics import context_precision\n",
    "from ragas.metrics import answer_relevancy\n",
    "from ragas.metrics import faithfulness\n",
    "from ragas.metrics import context_recall\n",
    "from ragas.metrics import answer_correctness\n",
    "from ragas import evaluate\n",
    "from ragas.llms import LangchainLLMWrapper\n",
    "from ragas.embeddings import LangchainEmbeddingsWrapper\n",
    "\n",
    "gpt4o = LangchainLLMWrapper(ChatOpenAI(model=\"gpt-4o\"))\n",
    "openaiEmbedding = LangchainEmbeddingsWrapper(OpenAIEmbeddings(model=\"text-embedding-3-large\"))\n",
    "\n",
    "\n",
    "\n",
    "data_samples = {\n",
    "    'question': ['How many metric tons of greenhouse gas emissions did our company produce in 2021?'],\n",
    "    'answer': [\"Response: According to the provided context information, the company produced: * Gross Scope 1 Emissions: 113,286 metric tons (2021) * Gross Scope 2 Emissions: 469,236 metric tons (2021) * Gross Scope 3 Emissions: 56,803,958 metric tons (2021) Total greenhouse gas emissions in 2021 are the sum of these three categories: 113,286 + 469,236 + 56,803,958 = 57,376,480 metric tons\"],\n",
    "    'contexts' : [\n",
    "        [\n",
    "            \"Climate Action We are taking action on climate and transforming our food systems to be more resilient for the future ahead. Reducing emissions and adapting to climate change is critical to the success of the McDonald’s System. We work toward our climate action ambitions by focusing on reducing emissions in our restaurant operations, engaging suppliers to reduce emissions in supply chains, strengthening our business resilience and using our voice to advocate for collective transformation. In 2021, we committed to adapting our climate targets to help keep global temperature rises below 1.5°C. We intend to share an update on our climate journey later this year. Scope 1 Sources of direct emissions  (owned or controlled by the Company) from Company-operated restaurants and offices only 2021 GHG Emissions (Metric Tons) 2021: 113,286 2015 (Baseline): 162,958 0.18%% of total emissions Scope 2 * Sources of indirect emissions (owned or controlled by the Company) from Company- operated restaurants and offices only 2021 GHG Emissions (Metric Tons) 2021: 469,236 2015 (Baseline): 1,295,064 0.8%% of total emissions * Market-based Scope 3 Sources of all other indirect emi ssions from Franchisee- owned restaurants, waste from all restaurants, supply chain, transportation and logistics 2021 GHG Emissions (Metric Tons) 2021: 56,803,958 2015 (Baseline): 49,802,177 99.02%% of total emissionsOur 2021 Footprint\",\n",
    "            \"and coordination across the McDonald’s System. We look forward to continuing to identify ways to strengthen our reporting processes and disclosures in the coming years. All data shown below is reflective of year-end 2022 progress, unless otherwise stated. Topic Accounting Metric Category Unit of Measure Code Response and Source(s) Energy Ma nagement (1) T otal energy consumed, (2) percentage grid electricity and (3) percentage renewables Quantitative Gigajoules (GJ), Percentage (%) FB-RN-130a.1 Response In 2021, we committed to adapting our climate targets to help keep global temperature rises below 1.5°C. We intend to share an update on our climate journey later this year. Energy Consumption for Company-Owned Restaurants and Offices (1) T otal energy consumed: 7,989,134.4 GJ (2021) (2) Percentage grid electricity: 62.5% (2021) (3) Percentage renewable: 12.7% (2021) Commentary Greenhouse Gas (GHG) Emissions (in Metric Tons) Gross Scope 1 Emissions: 113,286 (2021) Gross Scope 2 Emissions: 469,236 (2021) Gross Scope 3 Emissions: 56,803,958 (2021) T oday, restaurant energy use represents 59%% of our restaurant and operations baseline emissions footprint; as such, they represent a key focus area for accelerating progress against our 2030 targets. Since 2019, McDonald’s has signed 14 renewable energy projects through virtual power purchase agreements (VPPAs) and continues to be among other leading corporate renewable energy buyers in adding new, large-scale r\",\n",
    "            \"with U.S. electricity use become operational, they are expected to contribute a 33%% reduction in emissions from our 2015 baseline. Our Planet Nature, Forests & Water Page 26 We have made progress against our 2030 goal to eliminate deforestation 1 from our g lobal supply chain, including for our priority ingredient supply chains where more than 99.0%% of commodities by volume supported deforestation-free supply chains  in 2022. 2 More than 85.1%% of restaurants in markets with advanced infrastructure5 offered guests the opportunity to recycle p ackaging items. Footnotes can be found on page 16 McDonald’s Corporation Purpose & Impact Report 2022–202312 Introduction Our Planet Food Quality & Sourcing Jobs, Inclusion & Empowerment Community Connection SASB Index\",\n",
    "            \"Our 2022 Progress at a Glance Packaging, Toys & Waste Page 22 We sourced 81.0%% of primary guest packaging3 from renewable, recycled or certified sources in 2022.4 97.2%% of primary fiber-based guest packaging materials globally were from recycled or certified sources in 2022. We made progress to reduce plastics in ou r Happy Meal toys. As of the end of 2022, we have reduced virgin fossil-fuel based plastic in Happy Meal toys by 47.8%% globally since 2018, up from 24.4%% as of the end of 2021. In 2022, more than 85.1%, of restaurants in ma rkets with advanced infrastructure5 offered g uests the opportunity to recycle packaging items. In these restaurants, guest packaging is collected in customer-facing recycling bins for back-of-house or off-site sorting and recycling utilizing existing local waste infrastructure systems.  Climate Action Page 19 In 2021, we committed to adapting our climate targets to help keep global temperature rises below 1.5°C. We intend to share more on our climate journey later this year. We continue to progress toward net zero emissions globally by 2050, transforming our business to be more resilient. During 2022, we added two large-scale, U.S. virtual power purchase agreements (VPPAs) to contribute more renewable energy to the grid. As renewable energy projects for which contracts we re executed between 2019 and 2023 associated\",\n",
    "        ]\n",
    "    ],\n",
    "    'ground_truth': ['Scope 1 Emissions: 113,286 (metric tons) Scope 2 Emissions: 469,236 (metric tons) Scope 3 Emissions: 56,803,958 (metric tons) This makes a total of 57,386,480 metric tons of greenhouse gas emissions in 2021.']\n",
    "}\n",
    "\n",
    "dataset = Dataset.from_dict(data_samples)\n",
    "\n",
    "score = evaluate(\n",
    "    dataset=dataset,\n",
    "    llm=gpt4o,\n",
    "    embeddings=openaiEmbedding,\n",
    "    metrics=[\n",
    "        faithfulness,\n",
    "        answer_relevancy,\n",
    "        context_precision,\n",
    "        context_recall,\n",
    "        answer_correctness\n",
    "    ]\n",
    ")\n",
    "\n",
    "# pd.set_option('display.max_colwidth', None)\n",
    "score.to_pandas()"
   ]
  },
  {
   "cell_type": "code",
   "execution_count": null,
   "metadata": {},
   "outputs": [],
   "source": []
  }
 ],
 "metadata": {
  "kernelspec": {
   "display_name": "Python 3",
   "language": "python",
   "name": "python3"
  },
  "language_info": {
   "codemirror_mode": {
    "name": "ipython",
    "version": 3
   },
   "file_extension": ".py",
   "mimetype": "text/x-python",
   "name": "python",
   "nbconvert_exporter": "python",
   "pygments_lexer": "ipython3",
   "version": "3.12.3"
  }
 },
 "nbformat": 4,
 "nbformat_minor": 2
}
